{
 "cells": [
  {
   "cell_type": "markdown",
   "metadata": {},
   "source": [
    "# Natality Experiment on the DAME-FLAME Python Package\n",
    "\n",
    "I use the DAME-FLAME Python package, which is publicly available for download [here](https://pypi.org/project/dame-flame/), on a real dataset, aiming to examine the effect of \"extreme smoking\" during pregancy on a newborn's birthweight. Overall, the results of the DAME-FLAME package lead us to believe that smoking during pregnancy causes significantly lower birthweight of infants. It also leads us to believe that there is little to no heterogeneity in *conditional treatment effects* of a mother's smoking on birthweight. In other words, when we examine groupings of characteristics of mothers and infants (including race, gender of infant, etc), then we don't see evidence that there exists some mothers and infants for whom the impact of maternal smoking on infant birthweight is different than the outcomes for other types of mothers and infants. \n",
    "\n",
    "I use the 2010 US Natality dataset from the National Vital Statistics System of the National Center for Health Statistics (2010), available here: http://www2.nber.org/data/vital-statistics-natality-data.html.\n",
    "The accompanying user guide to the dataset is also linked on this URL, as \"documentation\". \n",
    "\n",
    "This code and analysis was written by Neha Gupta, following similar work done by Tianyu Wang, in the paper [FLAME: A Fast Large-scale Almost Matching Exactly Approach to Causal Inference](https://arxiv.org/abs/1707.06315). Notable differences between the two are that the latter uses a slightly modified algorithm (Wang uses FlameDB, I use FlameBit), and this experiment drops all units that have missing data rather than matching on units with missing data while skipping matching on missing covariates (Both options are available in the `dame-flame` package! Use the `missing_data_replace` parameter). I also cut back on the dataset size for processing time. \n",
    "\n",
    "This experiment aims to build upon the analysis on maternal smoking and infant birthweight shown in [Kondracki (2020)](https://link.springer.com/content/pdf/10.1186/s12884-020-02981-1.pdf). \n",
    "\n",
    "For questions on this code, or on the DAME-FLAME Python Package, please contact Neha at neha.r.gupta \"at\" duke \"dot\" edu. "
   ]
  },
  {
   "cell_type": "code",
   "execution_count": 1,
   "metadata": {},
   "outputs": [],
   "source": [
    "import pandas as pd\n",
    "import numpy as np\n",
    "import dame_flame\n",
    "import random\n",
    "import matplotlib.pyplot as plt"
   ]
  },
  {
   "cell_type": "markdown",
   "metadata": {},
   "source": [
    "## Data Cleaning \n",
    "We begin by reading in the data file from the URL and cleaning it. We take a randomly chosen small sample, the variable `p`, for this experiment. "
   ]
  },
  {
   "cell_type": "code",
   "execution_count": 2,
   "metadata": {},
   "outputs": [
    {
     "name": "stderr",
     "output_type": "stream",
     "text": [
      "/home/home1/nrg18/.local/lib/python3.6/site-packages/IPython/core/interactiveshell.py:3072: DtypeWarning: Columns (28,55,60,61,62,63,64,65,66,67,68,69,70,71,77,78,79,80,83,84,85,86,87,88,89,90,91,92,93,99,104,105,106,107,108,109,111,133,134,135,136,137,138,139,140,141,142,143,144,145,146,147,148,149,150,151,158,159,160) have mixed types. Specify dtype option on import or set low_memory=False.\n",
      "  interactivity=interactivity, compiler=compiler, result=result)\n"
     ]
    }
   ],
   "source": [
    "p = 0.1\n",
    "\n",
    "df = pd.read_csv('http://data.nber.org/natality/2010/natl2010.csv.zip',\n",
    "         header=0, \n",
    "         skiprows=lambda i: i>0 and random.random() > p)"
   ]
  },
  {
   "cell_type": "code",
   "execution_count": 3,
   "metadata": {},
   "outputs": [],
   "source": [
    "# Restrict to singular births only. This is the DPLURAL variable\n",
    "df = df[df['dplural'] == 1]\n",
    "\n",
    "# need to also restrict to standard term births. This is 37 weeks+, as defined by Kondracki (2020)\n",
    "df = df[df['gestrec3'] == 2]\n",
    "\n",
    "# These are missing from the weight, I presume from the User Guide. \n",
    "df = df[df['dbwt'] != 9999]"
   ]
  },
  {
   "cell_type": "markdown",
   "metadata": {},
   "source": [
    "Below, I recode cigarette usage. I follow [Kondracki (2020)](https://link.springer.com/content/pdf/10.1186/s12884-020-02981-1.pdf) and define \"extreme smoking\" as 10+ cigarettes per day for the duration of preganancy. I will use this as the treatment indicator, and the control group will be individuals who smoked 0 cigarettes per day for the duration of the pregnancy. The dataset encodes cigarette usage for each trimester of pregnancy differently, so I gather from each variable. "
   ]
  },
  {
   "cell_type": "code",
   "execution_count": 4,
   "metadata": {},
   "outputs": [],
   "source": [
    "# First, drop anyone for whom we don't have smoking data:\n",
    "df = df[df['cig_1'] != 99]\n",
    "df = df[df['cig_2'] != 99]\n",
    "df = df[df['cig_3'] != 99]\n",
    "\n",
    "df['smokes_10'] = np.where(((df['cig_1'] >= 10) & (df['cig_2'] >=10) & (df['cig_3'] >= 10)), 1, 0)\n",
    "df['nonsmoker'] = np.where(((df['cig_1'] == 0) & (df['cig_2'] == 0) & (df['cig_3'] == 0)), 1, 0)\n",
    "\n",
    "# if you're not smoking 10 and you're not a nonsmoker then these two values will both be 0. We remove where they're equal. \n",
    "df = (df[df['nonsmoker'] != df['smokes_10']])"
   ]
  },
  {
   "cell_type": "markdown",
   "metadata": {},
   "source": [
    "I remove many observational covariates from the original dataset. The variables names here are the exact variable names in the original dataset, so they can be searched for in the [User Guide](http://data.nber.org/natality/2010/natl2010.pdf). More details on the meaning are available there. Briefly, I summarize the variables below. Note that some of these variables are recoded and could be considered \"binned\" continuous variables. The `DAME-FLAME` package is only for discrete observational datasets, but there are acceptable forms of data binning for some research questions. In this case, we assume binning these variables is acceptable because of prior research that relies on binned data such as [Kondracki (2020)](https://link.springer.com/content/pdf/10.1186/s12884-020-02981-1.pdf). For example, data that is binned include fathers age into fixed width bins in intervals of 5 years, and mother's education into bins of degree obtained rather than years of study. There is substantial research precedence that uses educational degree obtained as a variable on outcome rather than years of study. \n",
    "\n",
    "| Variable Name | Meaning |\n",
    "| ------------- | ------- |\n",
    "| fagerec11 | Fathers Age Recoded |\n",
    "| meduc | Mothers Education |\n",
    "| dob_wk | Weekday |\n",
    "| mager9 | Mother's Age Recode 9 |\n",
    "| fbrace | Father's Race |\n",
    "| mar | Mother's marital status |\n",
    "| rf_diab | Pre-pregnancy diabetes |\n",
    "| rf_cesar | Previous Cesarean Deliveries |\n",
    "| tbo_rec | Total Birth Order |\n",
    "| rf_phyp | Prepregnancy hypertension |\n",
    "| urf_chyper | chronic hypertension |\n",
    "| lbo_rec | live birth order |\n",
    "| rf_ppterm | previous preterm birth |\n",
    "| sex | Sex of Infant |\n",
    "| mbrace | Mother's bridged race |\n",
    "| bfacil3 | Birth Place (home, hospital) |\n",
    "| dbwt | Infant's birthweight |"
   ]
  },
  {
   "cell_type": "code",
   "execution_count": 5,
   "metadata": {},
   "outputs": [],
   "source": [
    "df_trunc = df.loc[:, df.columns.intersection(['fagerec11', 'meduc', 'dob_wk', 'mager9',\n",
    "                                    'fbrace', 'mar','rf_diab', 'rf_cesar', \n",
    "                                  'tbo_rec', 'rf_phyp', 'urf_chyper', 'lbo_rec',\n",
    "                                  'rf_ppterm', 'sex', 'mbrace', 'bfacil3', 'smokes_10', 'dbwt'])]"
   ]
  },
  {
   "cell_type": "code",
   "execution_count": 6,
   "metadata": {},
   "outputs": [],
   "source": [
    "# Missing values are encoded differently throughout the dataset (see user guide), but I aim to encode them all with the 999 character\n",
    "\n",
    "df_trunc.loc[df_trunc['bfacil3'] == 9, 'bfacil3'] = np.nan\n",
    "df_trunc.loc[df_trunc['mar'] == 9, 'mar'] = np.nan\n",
    "df_trunc.loc[df_trunc['meduc'] == 9, 'meduc'] = np.nan\n",
    "df_trunc.loc[df_trunc['fagerec11'] == 11, 'fagerec11'] = np.nan\n",
    "df_trunc.loc[df_trunc['fbrace'] == 99, 'fbrace'] = np.nan\n",
    "df_trunc.loc[df_trunc['lbo_rec'] == 9, 'lbo_rec'] = np.nan\n",
    "df_trunc.loc[df_trunc['tbo_rec'] == 9, 'tbo_rec'] = np.nan\n",
    "df_trunc.loc[df_trunc['urf_chyper'] == 9, 'urf_chyper'] = np.nan\n",
    "\n",
    "# Need to transform all the \"N\" and \"Y\" to 0/1\n",
    "d = {\"N\": 0, \"Y\": 1, \"U\": np.nan}\n",
    "df_trunc['rf_diab'] = df_trunc['rf_diab'].map(d)\n",
    "df_trunc['rf_phyp'] = df_trunc['rf_phyp'].map(d)\n",
    "df_trunc['rf_ppterm'] = df_trunc['rf_ppterm'].map(d)\n",
    "df_trunc['rf_cesar'] = df_trunc['rf_cesar'].map(d)\n",
    "\n",
    "# Transforming Gender to boolean\n",
    "d = {\"F\":1, \"M\": 0}\n",
    "df_trunc['sex'] = df_trunc['sex'].map(d)\n",
    "\n",
    "# Make sure all clear for input to DAME-FLAME package\n",
    "df_trunc = df_trunc.dropna()\n",
    "df_trunc = df_trunc.astype(int)"
   ]
  },
  {
   "cell_type": "code",
   "execution_count": 7,
   "metadata": {},
   "outputs": [
    {
     "data": {
      "text/html": [
       "<div>\n",
       "<style scoped>\n",
       "    .dataframe tbody tr th:only-of-type {\n",
       "        vertical-align: middle;\n",
       "    }\n",
       "\n",
       "    .dataframe tbody tr th {\n",
       "        vertical-align: top;\n",
       "    }\n",
       "\n",
       "    .dataframe thead th {\n",
       "        text-align: right;\n",
       "    }\n",
       "</style>\n",
       "<table border=\"1\" class=\"dataframe\">\n",
       "  <thead>\n",
       "    <tr style=\"text-align: right;\">\n",
       "      <th></th>\n",
       "      <th>dob_wk</th>\n",
       "      <th>bfacil3</th>\n",
       "      <th>mager9</th>\n",
       "      <th>mbrace</th>\n",
       "      <th>mar</th>\n",
       "      <th>meduc</th>\n",
       "      <th>fagerec11</th>\n",
       "      <th>fbrace</th>\n",
       "      <th>lbo_rec</th>\n",
       "      <th>tbo_rec</th>\n",
       "      <th>rf_diab</th>\n",
       "      <th>rf_phyp</th>\n",
       "      <th>rf_ppterm</th>\n",
       "      <th>rf_cesar</th>\n",
       "      <th>urf_chyper</th>\n",
       "      <th>sex</th>\n",
       "      <th>dbwt</th>\n",
       "      <th>smokes_10</th>\n",
       "    </tr>\n",
       "  </thead>\n",
       "  <tbody>\n",
       "    <tr>\n",
       "      <td>19519</td>\n",
       "      <td>7</td>\n",
       "      <td>1</td>\n",
       "      <td>4</td>\n",
       "      <td>1</td>\n",
       "      <td>2</td>\n",
       "      <td>5</td>\n",
       "      <td>3</td>\n",
       "      <td>2</td>\n",
       "      <td>1</td>\n",
       "      <td>1</td>\n",
       "      <td>0</td>\n",
       "      <td>0</td>\n",
       "      <td>0</td>\n",
       "      <td>0</td>\n",
       "      <td>2</td>\n",
       "      <td>1</td>\n",
       "      <td>3203</td>\n",
       "      <td>0</td>\n",
       "    </tr>\n",
       "    <tr>\n",
       "      <td>19520</td>\n",
       "      <td>6</td>\n",
       "      <td>1</td>\n",
       "      <td>5</td>\n",
       "      <td>1</td>\n",
       "      <td>1</td>\n",
       "      <td>3</td>\n",
       "      <td>5</td>\n",
       "      <td>1</td>\n",
       "      <td>6</td>\n",
       "      <td>7</td>\n",
       "      <td>0</td>\n",
       "      <td>0</td>\n",
       "      <td>0</td>\n",
       "      <td>0</td>\n",
       "      <td>2</td>\n",
       "      <td>1</td>\n",
       "      <td>3714</td>\n",
       "      <td>0</td>\n",
       "    </tr>\n",
       "    <tr>\n",
       "      <td>19521</td>\n",
       "      <td>7</td>\n",
       "      <td>1</td>\n",
       "      <td>4</td>\n",
       "      <td>1</td>\n",
       "      <td>1</td>\n",
       "      <td>3</td>\n",
       "      <td>5</td>\n",
       "      <td>1</td>\n",
       "      <td>1</td>\n",
       "      <td>1</td>\n",
       "      <td>0</td>\n",
       "      <td>0</td>\n",
       "      <td>0</td>\n",
       "      <td>0</td>\n",
       "      <td>2</td>\n",
       "      <td>0</td>\n",
       "      <td>3658</td>\n",
       "      <td>0</td>\n",
       "    </tr>\n",
       "    <tr>\n",
       "      <td>19522</td>\n",
       "      <td>6</td>\n",
       "      <td>1</td>\n",
       "      <td>3</td>\n",
       "      <td>1</td>\n",
       "      <td>2</td>\n",
       "      <td>3</td>\n",
       "      <td>3</td>\n",
       "      <td>1</td>\n",
       "      <td>1</td>\n",
       "      <td>1</td>\n",
       "      <td>0</td>\n",
       "      <td>0</td>\n",
       "      <td>0</td>\n",
       "      <td>0</td>\n",
       "      <td>2</td>\n",
       "      <td>1</td>\n",
       "      <td>3091</td>\n",
       "      <td>0</td>\n",
       "    </tr>\n",
       "    <tr>\n",
       "      <td>19523</td>\n",
       "      <td>7</td>\n",
       "      <td>1</td>\n",
       "      <td>5</td>\n",
       "      <td>8</td>\n",
       "      <td>1</td>\n",
       "      <td>6</td>\n",
       "      <td>5</td>\n",
       "      <td>8</td>\n",
       "      <td>1</td>\n",
       "      <td>1</td>\n",
       "      <td>0</td>\n",
       "      <td>0</td>\n",
       "      <td>0</td>\n",
       "      <td>0</td>\n",
       "      <td>2</td>\n",
       "      <td>0</td>\n",
       "      <td>3948</td>\n",
       "      <td>0</td>\n",
       "    </tr>\n",
       "  </tbody>\n",
       "</table>\n",
       "</div>"
      ],
      "text/plain": [
       "       dob_wk  bfacil3  mager9  mbrace  mar  meduc  fagerec11  fbrace  \\\n",
       "19519       7        1       4       1    2      5          3       2   \n",
       "19520       6        1       5       1    1      3          5       1   \n",
       "19521       7        1       4       1    1      3          5       1   \n",
       "19522       6        1       3       1    2      3          3       1   \n",
       "19523       7        1       5       8    1      6          5       8   \n",
       "\n",
       "       lbo_rec  tbo_rec  rf_diab  rf_phyp  rf_ppterm  rf_cesar  urf_chyper  \\\n",
       "19519        1        1        0        0          0         0           2   \n",
       "19520        6        7        0        0          0         0           2   \n",
       "19521        1        1        0        0          0         0           2   \n",
       "19522        1        1        0        0          0         0           2   \n",
       "19523        1        1        0        0          0         0           2   \n",
       "\n",
       "       sex  dbwt  smokes_10  \n",
       "19519    1  3203          0  \n",
       "19520    1  3714          0  \n",
       "19521    0  3658          0  \n",
       "19522    1  3091          0  \n",
       "19523    0  3948          0  "
      ]
     },
     "execution_count": 7,
     "metadata": {},
     "output_type": "execute_result"
    }
   ],
   "source": [
    "df_trunc.head()"
   ]
  },
  {
   "cell_type": "code",
   "execution_count": 8,
   "metadata": {},
   "outputs": [
    {
     "data": {
      "text/plain": [
       "0    168897\n",
       "1      5239\n",
       "Name: smokes_10, dtype: int64"
      ]
     },
     "execution_count": 8,
     "metadata": {},
     "output_type": "execute_result"
    }
   ],
   "source": [
    "# This is the number of smokers and non-smokers in the dataset:\n",
    "df_trunc['smokes_10'].value_counts()"
   ]
  },
  {
   "cell_type": "markdown",
   "metadata": {},
   "source": [
    "## Create treatment/control matches with the DAME-FLAME package"
   ]
  },
  {
   "cell_type": "code",
   "execution_count": 10,
   "metadata": {},
   "outputs": [
    {
     "name": "stdout",
     "output_type": "stream",
     "text": [
      "Iteration number:  1\n",
      "\tNumber of matched groups formed in total:  2418\n",
      "\tUnmatched treated units:  2045 out of a total of  5239 treated units\n",
      "\tUnmatched control units:  139525 out of a total of  168897 control units\n",
      "\tPredictive error of covariates chosen this iteration:  0\n",
      "\tNumber of matches made in this iteration:  32566\n",
      "\tNumber of matches made so far:  32566\n",
      "\tIn this iteration, the covariates dropped are:  set()\n",
      "Iteration number:  2\n",
      "\tNumber of matched groups formed in total:  3216\n",
      "\tUnmatched treated units:  1174 out of a total of  5239 treated units\n",
      "\tUnmatched control units:  136909 out of a total of  168897 control units\n",
      "\tPredictive error of covariates chosen this iteration:  622376.8987389146\n",
      "\tNumber of matches made in this iteration:  3487\n",
      "\tNumber of matches made so far:  36053\n",
      "\tIn this iteration, the covariates dropped are:  dob_wk\n",
      "Iteration number:  3\n",
      "\tNumber of matched groups formed in total:  3707\n",
      "\tUnmatched treated units:  641 out of a total of  5239 treated units\n",
      "\tUnmatched control units:  131939 out of a total of  168897 control units\n",
      "\tPredictive error of covariates chosen this iteration:  542314.5480071796\n",
      "\tNumber of matches made in this iteration:  8990\n",
      "\tNumber of matches made so far:  41556\n",
      "\tIn this iteration, the covariates dropped are:  fagerec11\n",
      "Iteration number:  4\n",
      "\tNumber of matched groups formed in total:  4012\n",
      "\tUnmatched treated units:  300 out of a total of  5239 treated units\n",
      "\tUnmatched control units:  130493 out of a total of  168897 control units\n",
      "\tPredictive error of covariates chosen this iteration:  488737.0497343134\n",
      "\tNumber of matches made in this iteration:  10777\n",
      "\tNumber of matches made so far:  43343\n",
      "\tIn this iteration, the covariates dropped are:  meduc\n",
      "Iteration number:  5\n",
      "\tNumber of matched groups formed in total:  4153\n",
      "\tUnmatched treated units:  141 out of a total of  5239 treated units\n",
      "\tUnmatched control units:  128703 out of a total of  168897 control units\n",
      "\tPredictive error of covariates chosen this iteration:  450069.6617922881\n",
      "\tNumber of matches made in this iteration:  12726\n",
      "\tNumber of matches made so far:  45292\n",
      "\tIn this iteration, the covariates dropped are:  mager9\n",
      "Iteration number:  6\n",
      "\tNumber of matched groups formed in total:  4220\n",
      "\tUnmatched treated units:  69 out of a total of  5239 treated units\n",
      "\tUnmatched control units:  125126 out of a total of  168897 control units\n",
      "\tPredictive error of covariates chosen this iteration:  434788.6391338656\n",
      "\tNumber of matches made in this iteration:  16375\n",
      "\tNumber of matches made so far:  48941\n",
      "\tIn this iteration, the covariates dropped are:  tbo_rec\n",
      "Iteration number:  7\n",
      "\tNumber of matched groups formed in total:  4263\n",
      "\tUnmatched treated units:  23 out of a total of  5239 treated units\n",
      "\tUnmatched control units:  124509 out of a total of  168897 control units\n",
      "\tPredictive error of covariates chosen this iteration:  418214.9725044938\n",
      "\tNumber of matches made in this iteration:  17038\n",
      "\tNumber of matches made so far:  49604\n",
      "\tIn this iteration, the covariates dropped are:  lbo_rec\n",
      "Iteration number:  8\n",
      "\tNumber of matched groups formed in total:  4281\n",
      "\tUnmatched treated units:  4 out of a total of  5239 treated units\n",
      "\tUnmatched control units:  115567 out of a total of  168897 control units\n",
      "\tPredictive error of covariates chosen this iteration:  411570.0139414421\n",
      "\tNumber of matches made in this iteration:  25999\n",
      "\tNumber of matches made so far:  58565\n",
      "\tIn this iteration, the covariates dropped are:  fbrace\n",
      "Iteration number:  9\n",
      "\tNumber of matched groups formed in total:  4283\n",
      "\tUnmatched treated units:  2 out of a total of  5239 treated units\n",
      "\tUnmatched control units:  115565 out of a total of  168897 control units\n",
      "\tPredictive error of covariates chosen this iteration:  408279.59400896064\n",
      "\tNumber of matches made in this iteration:  26003\n",
      "\tNumber of matches made so far:  58569\n",
      "\tIn this iteration, the covariates dropped are:  rf_cesar\n",
      "Iteration number:  10\n",
      "\tNumber of matched groups formed in total:  4285\n",
      "\tUnmatched treated units:  0 out of a total of  5239 treated units\n",
      "\tUnmatched control units:  115560 out of a total of  168897 control units\n",
      "\tPredictive error of covariates chosen this iteration:  407601.0225596606\n",
      "\tNumber of matches made in this iteration:  26010\n",
      "\tNumber of matches made so far:  58576\n",
      "\tIn this iteration, the covariates dropped are:  mar\n",
      "58576 units matched. We finished with no more treated units to match\n"
     ]
    }
   ],
   "source": [
    "# extreme smoking is the treatment column, birthweight is the outcome\n",
    "model_flame = dame_flame.matching.FLAME(repeats=False, verbose=3, adaptive_weights='decisiontreeCV')\n",
    "model_flame.fit(holdout_data=df_trunc, treatment_column_name='smokes_10', outcome_column_name='dbwt')\n",
    "result_flame = model_flame.predict(df_trunc)"
   ]
  },
  {
   "cell_type": "markdown",
   "metadata": {},
   "source": [
    "## Plot and Discuss Outcome"
   ]
  },
  {
   "cell_type": "markdown",
   "metadata": {},
   "source": [
    "The covariate dropping order, shown above using the `verbose=3` parameter, is something we can try to use to interpret covariate importance. The FLAME algorithm learns the importance of each covariate on the outcome when choosing the best covariate to drop. Thus, the earlier dropped covariates are less relevant to the outcome. In this case, FLAME would lead us to believe that some factors, such as mother's education and the day of the week of the infant birth, are less predictive of an infant's birth weight than other factors, such as the sex of the infant."
   ]
  },
  {
   "cell_type": "code",
   "execution_count": 11,
   "metadata": {},
   "outputs": [
    {
     "data": {
      "text/plain": [
       "-289.14769423620163"
      ]
     },
     "execution_count": 11,
     "metadata": {},
     "output_type": "execute_result"
    }
   ],
   "source": [
    "dame_flame.utils.post_processing.ATE(model_flame)"
   ]
  },
  {
   "cell_type": "markdown",
   "metadata": {},
   "source": [
    "So, as we can see, the ATE is highly negative, implying that maternal extreme smoking causes an infant birthweight to be lower than not-smoking by this many grams. "
   ]
  },
  {
   "cell_type": "code",
   "execution_count": 12,
   "metadata": {},
   "outputs": [],
   "source": [
    "group_size_treated = []\n",
    "group_size_overall = []\n",
    "cate_of_group = []\n",
    "for group in model_flame.units_per_group:\n",
    "    \n",
    "    # find len of just treated units\n",
    "    df_mmg = df.loc[group]\n",
    "    treated = df_mmg.loc[df_mmg[\"smokes_10\"] == 1]\n",
    "    \n",
    "    group_size_treated.append(len(treated))\n",
    "    group_size_overall.append(len(group))\n",
    "    \n",
    "    cate_of_group.append(dame_flame.utils.post_processing.CATE(model_flame, group[0]))"
   ]
  },
  {
   "cell_type": "code",
   "execution_count": 19,
   "metadata": {},
   "outputs": [
    {
     "data": {
      "text/plain": [
       "Text(0.5, 1.0, 'Visualizing CATE of matched groups from FLAME')"
      ]
     },
     "execution_count": 19,
     "metadata": {},
     "output_type": "execute_result"
    },
    {
     "data": {
      "image/png": "[encoded data removed]",
      "text/plain": [
       "<Figure size 432x288 with 1 Axes>"
      ]
     },
     "metadata": {
      "needs_background": "light"
     },
     "output_type": "display_data"
    }
   ],
   "source": [
    "plt.scatter(group_size_treated, cate_of_group, alpha=0.25, edgecolors='b')\n",
    "plt.axhline(y=0.0, color='r', linestyle='-')\n",
    "plt.xlabel('Number of Treatment units in group', fontsize=12)\n",
    "plt.ylabel('Estimated Treatment Effect of Group', fontsize=12)\n",
    "plt.title(\"Visualizing CATE of matched groups from FLAME\", fontsize=14)"
   ]
  },
  {
   "cell_type": "markdown",
   "metadata": {},
   "source": [
    "This plot leads us to believe there is little heterogeneity in the Conditional Average Treatment Effect (CATE) of maternal smoking on infant birth weight. Most extreme values are observed in small matched groups, for which CATE estimation is difficult. Put simply, we don't see evidence that there exists some \"types of\" mothers and infants (classified by characteristics such as education and race) for whom the impact of maternal smoking on infant birthweight is different than the outcomes for other mothers and infants. "
   ]
  }
 ],
 "metadata": {
  "kernelspec": {
   "display_name": "Python 3",
   "language": "python",
   "name": "python3"
  },
  "language_info": {
   "codemirror_mode": {
    "name": "ipython",
    "version": 3
   },
   "file_extension": ".py",
   "mimetype": "text/x-python",
   "name": "python",
   "nbconvert_exporter": "python",
   "pygments_lexer": "ipython3",
   "version": "3.6.9"
  }
 },
 "nbformat": 4,
 "nbformat_minor": 4
}
