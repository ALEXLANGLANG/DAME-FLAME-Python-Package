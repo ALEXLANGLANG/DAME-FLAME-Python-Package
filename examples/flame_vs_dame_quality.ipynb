{
 "cells": [
  {
   "cell_type": "code",
   "execution_count": 1,
   "metadata": {},
   "outputs": [
    {
     "ename": "ValueError",
     "evalue": "shapes (1000,10) and (5,) not aligned: 10 (dim 1) != 5 (dim 0)",
     "output_type": "error",
     "traceback": [
      "\u001b[0;31m---------------------------------------------------------------------------\u001b[0m",
      "\u001b[0;31mValueError\u001b[0m                                Traceback (most recent call last)",
      "\u001b[0;32m<ipython-input-1-34f6a716976a>\u001b[0m in \u001b[0;36m<module>\u001b[0;34m\u001b[0m\n\u001b[1;32m      7\u001b[0m \u001b[0mnum_covariates\u001b[0m \u001b[0;34m=\u001b[0m \u001b[0;36m10\u001b[0m\u001b[0;34m\u001b[0m\u001b[0;34m\u001b[0m\u001b[0m\n\u001b[1;32m      8\u001b[0m df, true_catt = dame_flame.utils.data.generate_binomial_given_importance(num_control=1000, num_treated=1000, \n\u001b[0;32m----> 9\u001b[0;31m                     num_cov=num_covariates, bernoulli_param=0.5, bi_mean=2, bi_stdev=1)\n\u001b[0m\u001b[1;32m     10\u001b[0m \u001b[0;34m\u001b[0m\u001b[0m\n\u001b[1;32m     11\u001b[0m \u001b[0;31m# Get matches using DAME and FLAME\u001b[0m\u001b[0;34m\u001b[0m\u001b[0;34m\u001b[0m\u001b[0;34m\u001b[0m\u001b[0m\n",
      "\u001b[0;32m~/.local/lib/python3.6/site-packages/dame_flame/utils/data.py\u001b[0m in \u001b[0;36mgenerate_binomial_given_importance\u001b[0;34m(num_control, num_treated, num_cov, bernoulli_param, bi_mean, bi_stdev, covar_importance)\u001b[0m\n\u001b[1;32m     55\u001b[0m     \u001b[0mxt\u001b[0m \u001b[0;34m=\u001b[0m \u001b[0mnp\u001b[0m\u001b[0;34m.\u001b[0m\u001b[0mrandom\u001b[0m\u001b[0;34m.\u001b[0m\u001b[0mbinomial\u001b[0m\u001b[0;34m(\u001b[0m\u001b[0;36m1\u001b[0m\u001b[0;34m,\u001b[0m \u001b[0mbernoulli_param\u001b[0m\u001b[0;34m,\u001b[0m \u001b[0msize\u001b[0m\u001b[0;34m=\u001b[0m\u001b[0;34m(\u001b[0m\u001b[0mnum_treated\u001b[0m\u001b[0;34m,\u001b[0m \u001b[0mnum_cov\u001b[0m\u001b[0;34m)\u001b[0m\u001b[0;34m)\u001b[0m \u001b[0;31m# data for treated group\u001b[0m\u001b[0;34m\u001b[0m\u001b[0;34m\u001b[0m\u001b[0m\n\u001b[1;32m     56\u001b[0m \u001b[0;34m\u001b[0m\u001b[0m\n\u001b[0;32m---> 57\u001b[0;31m     \u001b[0myc\u001b[0m \u001b[0;34m=\u001b[0m \u001b[0mnp\u001b[0m\u001b[0;34m.\u001b[0m\u001b[0mdot\u001b[0m\u001b[0;34m(\u001b[0m\u001b[0mxc\u001b[0m\u001b[0;34m,\u001b[0m \u001b[0mnp\u001b[0m\u001b[0;34m.\u001b[0m\u001b[0marray\u001b[0m\u001b[0;34m(\u001b[0m\u001b[0mcovar_importance\u001b[0m\u001b[0;34m)\u001b[0m\u001b[0;34m)\u001b[0m \u001b[0;31m# y for control group\u001b[0m\u001b[0;34m\u001b[0m\u001b[0;34m\u001b[0m\u001b[0m\n\u001b[0m\u001b[1;32m     58\u001b[0m \u001b[0;34m\u001b[0m\u001b[0m\n\u001b[1;32m     59\u001b[0m     \u001b[0mtreatment_eff_coef\u001b[0m \u001b[0;34m=\u001b[0m \u001b[0mnp\u001b[0m\u001b[0;34m.\u001b[0m\u001b[0mrandom\u001b[0m\u001b[0;34m.\u001b[0m\u001b[0mnormal\u001b[0m\u001b[0;34m(\u001b[0m\u001b[0mbi_mean\u001b[0m\u001b[0;34m,\u001b[0m \u001b[0mbi_stdev\u001b[0m\u001b[0;34m,\u001b[0m \u001b[0msize\u001b[0m\u001b[0;34m=\u001b[0m\u001b[0mnum_cov\u001b[0m\u001b[0;34m)\u001b[0m \u001b[0;31m# this is beta\u001b[0m\u001b[0;34m\u001b[0m\u001b[0;34m\u001b[0m\u001b[0m\n",
      "\u001b[0;32m<__array_function__ internals>\u001b[0m in \u001b[0;36mdot\u001b[0;34m(*args, **kwargs)\u001b[0m\n",
      "\u001b[0;31mValueError\u001b[0m: shapes (1000,10) and (5,) not aligned: 10 (dim 1) != 5 (dim 0)"
     ]
    }
   ],
   "source": [
    "import numpy as np\n",
    "import pandas as pd\n",
    "import dame_flame\n",
    "import matplotlib.pyplot as plt\n",
    "\n",
    "# Generate Data\n",
    "num_covariates = 10\n",
    "df, true_catt = dame_flame.utils.data.generate_binomial_given_importance(num_control=1000, num_treated=1000, \n",
    "                    num_cov=num_covariates, bernoulli_param=0.5, bi_mean=2, bi_stdev=1)\n",
    "\n",
    "# Get matches using DAME and FLAME\n",
    "model_dame = dame_flame.matching.DAME(repeats=False, verbose=0, early_stop_iterations=10)\n",
    "model_dame.fit(holdout_data=df)\n",
    "result_dame = model_dame.predict(df)\n",
    "\n",
    "model_flame = dame_flame.matching.FLAME(repeats=False, verbose=0, early_stop_iterations=10)\n",
    "model_flame.fit(holdout_data=df)\n",
    "result_flame = model_flame.predict(df)"
   ]
  },
  {
   "cell_type": "code",
   "execution_count": null,
   "metadata": {},
   "outputs": [],
   "source": [
    "# replace all the '*'s with NAs so we can get a count of the NAs. \n",
    "result_flame = result_flame.replace(to_replace='*', value=np.nan)\n",
    "result_dame = result_dame.replace(to_replace='*', value=np.nan)\n",
    "\n",
    "# This will map: {number of covariates matched on : number of units matched on that number of covariates}\n",
    "dict_matched_result_dame = {k:0 for k in range(0,num_covariates+1)}\n",
    "dict_matched_result_flame = {k:0 for k in range(0,num_covariates+1)}\n",
    "\n",
    "# iterate through the rows in the df and count the number of non-NaN values in the row to determine\n",
    "# how many units that row was matched on. \n",
    "for i in result_flame.count(axis=1):\n",
    "    dict_matched_result_flame[i] += 1\n",
    "    \n",
    "for i in result_dame.count(axis=1):\n",
    "    dict_matched_result_dame[i] += 1"
   ]
  },
  {
   "cell_type": "code",
   "execution_count": null,
   "metadata": {},
   "outputs": [],
   "source": [
    "x = np.arange(len(dict_matched_result_flame.keys()))  # the label locations\n",
    "width = 0.5  # the width of the bars\n",
    "\n",
    "f, ax = plt.subplots(figsize=(12,9))\n",
    "rects1 = ax.bar(x - width/2,  dict_matched_result_flame.values(), width, color=\"green\", label = \"DAME\" ) #, stopping at {}% control units matched\".format(percent), hatch=\"/\")\n",
    "rects2 = ax.bar(x + width/2, dict_matched_result_dame.values(), width, color = \"orange\", label = \"FLAME\") #, stopping at {}% control units matched\".format(percent), hatch = \"\\\\\")\n",
    "ax.set_ylabel('Number of units', fontsize=16)\n",
    "ax.set_xlabel('Number of covariates matched on', fontsize=16)\n",
    "ax.set_title('Number of covariates that units were matched on after 10 iterations',\n",
    "            fontsize=16)\n",
    "\n",
    "ax.set_xticks(x)\n",
    "ax.set_xticklabels(dict_matched_result_flame.keys())\n",
    "ax.legend(fontsize=16)\n",
    "\n",
    "def autolabel(rects):\n",
    "    \"\"\"Attach a text label above each bar in *rects*, displaying its height.\"\"\"\n",
    "    for rect in rects:\n",
    "        height = rect.get_height()\n",
    "        ax.annotate('{}'.format(height),\n",
    "                    xy=(rect.get_x() + rect.get_width() / 2, height),\n",
    "                    xytext=(0, 3),  # 3 points vertical offset\n",
    "                    textcoords=\"offset points\",\n",
    "                    ha='center', va='bottom')\n",
    "\n",
    "\n",
    "autolabel(rects1)\n",
    "autolabel(rects2)\n",
    "\n",
    "plt.show()"
   ]
  },
  {
   "cell_type": "code",
   "execution_count": null,
   "metadata": {},
   "outputs": [],
   "source": [
    "plt.savefig('flame_vs_dame_quality.png')"
   ]
  },
  {
   "cell_type": "code",
   "execution_count": null,
   "metadata": {},
   "outputs": [],
   "source": []
  }
 ],
 "metadata": {
  "kernelspec": {
   "display_name": "Python 3",
   "language": "python",
   "name": "python3"
  },
  "language_info": {
   "codemirror_mode": {
    "name": "ipython",
    "version": 3
   },
   "file_extension": ".py",
   "mimetype": "text/x-python",
   "name": "python",
   "nbconvert_exporter": "python",
   "pygments_lexer": "ipython3",
   "version": "3.6.9"
  }
 },
 "nbformat": 4,
 "nbformat_minor": 4
}
